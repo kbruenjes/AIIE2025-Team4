{
  "nbformat": 4,
  "nbformat_minor": 0,
  "metadata": {
    "colab": {
      "provenance": []
    },
    "kernelspec": {
      "name": "python3",
      "display_name": "Python 3"
    },
    "language_info": {
      "name": "python"
    }
  },
  "cells": [
    {
      "cell_type": "markdown",
      "source": [
        "First three blocks are installs / imports for libraries"
      ],
      "metadata": {
        "id": "IeFesK6seVJ6"
      }
    },
    {
      "cell_type": "code",
      "source": [
        "!pip install -U google-generativeai"
      ],
      "metadata": {
        "colab": {
          "base_uri": "https://localhost:8080/"
        },
        "id": "tCY2WP69qxRE",
        "outputId": "da32e2b6-77d4-41d5-9043-e264d6f151fb"
      },
      "execution_count": 44,
      "outputs": [
        {
          "output_type": "stream",
          "name": "stdout",
          "text": [
            "Requirement already satisfied: google-generativeai in /usr/local/lib/python3.11/dist-packages (0.8.5)\n",
            "Requirement already satisfied: google-ai-generativelanguage==0.6.15 in /usr/local/lib/python3.11/dist-packages (from google-generativeai) (0.6.15)\n",
            "Requirement already satisfied: google-api-core in /usr/local/lib/python3.11/dist-packages (from google-generativeai) (2.25.0)\n",
            "Requirement already satisfied: google-api-python-client in /usr/local/lib/python3.11/dist-packages (from google-generativeai) (2.171.0)\n",
            "Requirement already satisfied: google-auth>=2.15.0 in /usr/local/lib/python3.11/dist-packages (from google-generativeai) (2.38.0)\n",
            "Requirement already satisfied: protobuf in /usr/local/lib/python3.11/dist-packages (from google-generativeai) (5.29.5)\n",
            "Requirement already satisfied: pydantic in /usr/local/lib/python3.11/dist-packages (from google-generativeai) (2.11.5)\n",
            "Requirement already satisfied: tqdm in /usr/local/lib/python3.11/dist-packages (from google-generativeai) (4.67.1)\n",
            "Requirement already satisfied: typing-extensions in /usr/local/lib/python3.11/dist-packages (from google-generativeai) (4.14.0)\n",
            "Requirement already satisfied: proto-plus<2.0.0dev,>=1.22.3 in /usr/local/lib/python3.11/dist-packages (from google-ai-generativelanguage==0.6.15->google-generativeai) (1.26.1)\n",
            "Requirement already satisfied: googleapis-common-protos<2.0.0,>=1.56.2 in /usr/local/lib/python3.11/dist-packages (from google-api-core->google-generativeai) (1.70.0)\n",
            "Requirement already satisfied: requests<3.0.0,>=2.18.0 in /usr/local/lib/python3.11/dist-packages (from google-api-core->google-generativeai) (2.32.3)\n",
            "Requirement already satisfied: cachetools<6.0,>=2.0.0 in /usr/local/lib/python3.11/dist-packages (from google-auth>=2.15.0->google-generativeai) (5.5.2)\n",
            "Requirement already satisfied: pyasn1-modules>=0.2.1 in /usr/local/lib/python3.11/dist-packages (from google-auth>=2.15.0->google-generativeai) (0.4.2)\n",
            "Requirement already satisfied: rsa<5,>=3.1.4 in /usr/local/lib/python3.11/dist-packages (from google-auth>=2.15.0->google-generativeai) (4.9.1)\n",
            "Requirement already satisfied: httplib2<1.0.0,>=0.19.0 in /usr/local/lib/python3.11/dist-packages (from google-api-python-client->google-generativeai) (0.22.0)\n",
            "Requirement already satisfied: google-auth-httplib2<1.0.0,>=0.2.0 in /usr/local/lib/python3.11/dist-packages (from google-api-python-client->google-generativeai) (0.2.0)\n",
            "Requirement already satisfied: uritemplate<5,>=3.0.1 in /usr/local/lib/python3.11/dist-packages (from google-api-python-client->google-generativeai) (4.2.0)\n",
            "Requirement already satisfied: annotated-types>=0.6.0 in /usr/local/lib/python3.11/dist-packages (from pydantic->google-generativeai) (0.7.0)\n",
            "Requirement already satisfied: pydantic-core==2.33.2 in /usr/local/lib/python3.11/dist-packages (from pydantic->google-generativeai) (2.33.2)\n",
            "Requirement already satisfied: typing-inspection>=0.4.0 in /usr/local/lib/python3.11/dist-packages (from pydantic->google-generativeai) (0.4.1)\n",
            "Requirement already satisfied: grpcio<2.0.0,>=1.33.2 in /usr/local/lib/python3.11/dist-packages (from google-api-core[grpc]!=2.0.*,!=2.1.*,!=2.10.*,!=2.2.*,!=2.3.*,!=2.4.*,!=2.5.*,!=2.6.*,!=2.7.*,!=2.8.*,!=2.9.*,<3.0.0dev,>=1.34.1->google-ai-generativelanguage==0.6.15->google-generativeai) (1.72.1)\n",
            "Requirement already satisfied: grpcio-status<2.0.0,>=1.33.2 in /usr/local/lib/python3.11/dist-packages (from google-api-core[grpc]!=2.0.*,!=2.1.*,!=2.10.*,!=2.2.*,!=2.3.*,!=2.4.*,!=2.5.*,!=2.6.*,!=2.7.*,!=2.8.*,!=2.9.*,<3.0.0dev,>=1.34.1->google-ai-generativelanguage==0.6.15->google-generativeai) (1.71.0)\n",
            "Requirement already satisfied: pyparsing!=3.0.0,!=3.0.1,!=3.0.2,!=3.0.3,<4,>=2.4.2 in /usr/local/lib/python3.11/dist-packages (from httplib2<1.0.0,>=0.19.0->google-api-python-client->google-generativeai) (3.2.3)\n",
            "Requirement already satisfied: pyasn1<0.7.0,>=0.6.1 in /usr/local/lib/python3.11/dist-packages (from pyasn1-modules>=0.2.1->google-auth>=2.15.0->google-generativeai) (0.6.1)\n",
            "Requirement already satisfied: charset-normalizer<4,>=2 in /usr/local/lib/python3.11/dist-packages (from requests<3.0.0,>=2.18.0->google-api-core->google-generativeai) (3.4.2)\n",
            "Requirement already satisfied: idna<4,>=2.5 in /usr/local/lib/python3.11/dist-packages (from requests<3.0.0,>=2.18.0->google-api-core->google-generativeai) (3.10)\n",
            "Requirement already satisfied: urllib3<3,>=1.21.1 in /usr/local/lib/python3.11/dist-packages (from requests<3.0.0,>=2.18.0->google-api-core->google-generativeai) (2.4.0)\n",
            "Requirement already satisfied: certifi>=2017.4.17 in /usr/local/lib/python3.11/dist-packages (from requests<3.0.0,>=2.18.0->google-api-core->google-generativeai) (2025.4.26)\n"
          ]
        }
      ]
    },
    {
      "cell_type": "code",
      "execution_count": 45,
      "metadata": {
        "colab": {
          "base_uri": "https://localhost:8080/"
        },
        "id": "-FSI9v_Rgmuk",
        "outputId": "d5bce5a0-fa6c-477f-aeb7-eb5b278bc2fb"
      },
      "outputs": [
        {
          "output_type": "stream",
          "name": "stdout",
          "text": [
            "Requirement already satisfied: PyPDF2 in /usr/local/lib/python3.11/dist-packages (3.0.1)\n",
            "Requirement already satisfied: python-docx in /usr/local/lib/python3.11/dist-packages (1.1.2)\n",
            "Requirement already satisfied: lxml>=3.1.0 in /usr/local/lib/python3.11/dist-packages (from python-docx) (5.4.0)\n",
            "Requirement already satisfied: typing-extensions>=4.9.0 in /usr/local/lib/python3.11/dist-packages (from python-docx) (4.14.0)\n"
          ]
        }
      ],
      "source": [
        "!pip install PyPDF2 python-docx"
      ]
    },
    {
      "cell_type": "code",
      "source": [
        "import os\n",
        "import textwrap\n",
        "import PyPDF2 # For PDF files | Probably don't need\n",
        "import docx # For .docx Word files | Probably don't need\n",
        "from IPython.display import display, Markdown, clear_output # For better Colab output\n",
        "from PIL import Image\n",
        "from io import BytesIO\n",
        "from google import genai\n",
        "from google.colab import userdata\n",
        "from google.genai import types"
      ],
      "metadata": {
        "id": "XJowttfchOhc"
      },
      "execution_count": 46,
      "outputs": []
    },
    {
      "cell_type": "markdown",
      "source": [
        "Defining functions"
      ],
      "metadata": {
        "id": "0RRaT6Uvix8a"
      }
    },
    {
      "cell_type": "code",
      "source": [
        "GOOGLE_API_KEY = userdata.get('GOOGLE_API_KEY')\n",
        "\n",
        "client = genai.Client(api_key=GOOGLE_API_KEY)\n",
        "\n",
        "#Names of the models for each part\n",
        "text_gen_model = \"gemini-1.5-flash\"\n",
        "image_gen_model = \"gemini-2.0-flash-exp-image-generation\"\n",
        "\n",
        "#Extracts text from a text (.txt) file\n",
        "def get_txt(txt_path):\n",
        "    \"\"\"Extracts text from a plain text file.\"\"\"\n",
        "    try:\n",
        "        with open(txt_path, 'r', encoding='utf-8') as file:\n",
        "            return file.read()\n",
        "    except UnicodeDecodeError:\n",
        "        print(f\"Error: Could not decode text file '{txt_path}' with UTF-8. Trying with 'latin-1'.\")\n",
        "        with open(txt_path, 'r', encoding='latin-1') as file:\n",
        "            return file.read()\n",
        "    except Exception as e:\n",
        "        print(f\"An error occurred while reading text file '{txt_path}': {e}\")\n",
        "        return None\n",
        "\n",
        "#Given an image path, loads an image\n",
        "def get_img(img_path):\n",
        "  try:\n",
        "    style_ex = Image.open(img_path)\n",
        "  except FileNotFoundError:\n",
        "    print(f\"Error: {img_path} could not be found. Please try again\")\n",
        "    style_ex = Image.new('RGB', (100, 100), color = 'red')\n",
        "    print(\"Creating replacement image, result will not be styled properly\")\n",
        "\n",
        "  return style_ex"
      ],
      "metadata": {
        "id": "Fp0yOPi2ir8t"
      },
      "execution_count": 47,
      "outputs": []
    },
    {
      "cell_type": "markdown",
      "source": [
        "Generative Functions"
      ],
      "metadata": {
        "id": "zrmRcMqcl5p5"
      }
    },
    {
      "cell_type": "code",
      "source": [
        "\"\"\"\n",
        "Text Generation | Programmed so that it can generate a story, and a title for the story.\n",
        "The function needs to be called separately for generating both.\n",
        "Parameters:\n",
        "- out_type : \"STORY\" by default, generates the story : \"TITLE\" generates a story based on the 'prompt' input\n",
        "- prompt : if out_type is \"STORY\", insert the prompt for the story : if out_type is \"TITLE\", insert the story\n",
        "- ex_txt : Example text to be used for the story's format (ONLY ONE) : Value doesn't matter when out_type is \"TITLE\"\n",
        "- count : When out_type is \"STORY\", the story will be exactly 'count' sentences long : When out_type is \"TITLE\", the title will be exactly 'count' words long\n",
        "\"\"\"\n",
        "def GenText(prompt, ex_txt, count, out_type=\"STORY\"):\n",
        "  if out_type.upper() == \"STORY\":\n",
        "    final_prompt = (f\"\"\"\n",
        "      Please use the following text as a style and tone guide:\n",
        "      ---\n",
        "      {ex_txt}\n",
        "      ---\n",
        "\n",
        "      Now, inspired by this style, write a short story in {count} sentences, each sentence on a new line, about: {prompt}\n",
        "    \"\"\")\n",
        "  elif out_type.upper() == \"TITLE\":\n",
        "    final_prompt = (f\"\"\"\n",
        "      Please read the following children story, and create a title for it that is exactly {count} words: {prompt}\n",
        "    \"\"\")\n",
        "\n",
        "  response = client.models.generate_content(\n",
        "      model = text_gen_model,\n",
        "      contents = final_prompt,\n",
        "      config = types.GenerateContentConfig(\n",
        "          response_modalities=['TEXT', 'Text']\n",
        "      )\n",
        "  )\n",
        "  return response\n",
        "\n",
        "\"\"\"\n",
        "Image Generation | Generates an image\n",
        "Parameters:\n",
        "- prompt : The text prompt to create an image from\n",
        "- ex_img : The image fed into the model as a style example (ONLY ONE IMAGE)\n",
        "\"\"\"\n",
        "\n",
        "def GenImage(prompt, ex_img):\n",
        "  final_prompt = \"In a style inspired by the provided image, create an image for this caption: \" + prompt\n",
        "  feed = (final_prompt, ex_img)\n",
        "\n",
        "  response = client.models.generate_content(\n",
        "      model = image_gen_model,\n",
        "      contents = feed,\n",
        "      config = types.GenerateContentConfig(\n",
        "          response_modalities=['TEXT', \"IMAGE\"]\n",
        "      ),\n",
        "  )\n",
        "\n",
        "  for part in response.candidates[0].content.parts:\n",
        "    if part.text is not None:\n",
        "      print(part.text)\n",
        "    elif part.inline_data is not None:\n",
        "      image = Image.open(BytesIO((part.inline_data.data)))\n",
        "      image.save(\"itjoever.png\")\n",
        "      image.show()\n",
        "\n",
        "\"\"\"\n",
        "Image Generation With Multiple Examples\n",
        "Parameters:\n",
        "- prompt : The text prompt to create an image from\n",
        "- ex_imgs : A list of images fed into the model as a style example (MULTIPLE ALLOWED | CAN DO ONE)\n",
        "\"\"\"\n",
        "def GenImage_FromList(prompt, ex_imgs):\n",
        "  final_prompt = \"In a style inspired by the provided images, create an image for this caption: \" + prompt\n",
        "  feed = tuple([final_prompt] + ex_imgs)\n",
        "\n",
        "  response = client.models.generate_content(\n",
        "      model = image_gen_model,\n",
        "      contents = feed,\n",
        "      config = types.GenerateContentConfig(\n",
        "          response_modalities=['TEXT', \"IMAGE\"]\n",
        "      ),\n",
        "  )\n",
        "\n",
        "  for part in response.candidates[0].content.parts:\n",
        "    if part.text is not None:\n",
        "      print(part.text)\n",
        "    elif part.inline_data is not None:\n",
        "      image = Image.open(BytesIO((part.inline_data.data)))\n",
        "      image.save(\"itjoever.png\")\n",
        "      image.show()"
      ],
      "metadata": {
        "id": "9gDGufYil7Wg"
      },
      "execution_count": 52,
      "outputs": []
    },
    {
      "cell_type": "code",
      "source": [
        "#Generates the story\n",
        "text_sample = get_txt(\"/content/fishi.txt\")\n",
        "story_prompt = \"A frog goes to a waterpark for a day, and meets a cute toad\"\n",
        "story = GenText(story_prompt, text_sample, 20)\n",
        "\n",
        "for part in story.candidates[0].content.parts:\n",
        "  if part.text is not None:\n",
        "    story_str = part.text\n",
        "\n",
        "story_list = story_str.splitlines()\n",
        "#Prints the story line by line\n",
        "for i in range(0, len(story_list)):\n",
        "  print(str(i) + \": \" + story_list[i])"
      ],
      "metadata": {
        "colab": {
          "base_uri": "https://localhost:8080/"
        },
        "id": "ULsFCh4lwvOq",
        "outputId": "add9745b-6292-47d2-ddb4-350cf7c3a2c0"
      },
      "execution_count": 53,
      "outputs": [
        {
          "output_type": "stream",
          "name": "stdout",
          "text": [
            "0: Green frog, happy frog, bouncy frog, went to the park.\n",
            "1: Splash!  He jumped in the big blue pool.\n",
            "2: Whizz! Down a twisting slide he flew.\n",
            "3: A little toad, a cute, small toad, sat nearby.\n",
            "4: Her skin was speckled, a pretty brown.\n",
            "5: He saw her smile, a tiny, sweet smile.\n",
            "6: Ribbit! He croaked a hello, a friendly hello.\n",
            "7: She hopped closer, a quick little hop.\n",
            "8: They played on the lily pad raft.\n",
            "9: They zoomed down the water slide, together.\n",
            "10: Round and round the lazy river they drifted.\n",
            "11: He splashed water on her, a playful splash.\n",
            "12: She giggled, a tiny, happy giggle.\n",
            "13: The sun shone bright, a warm, summer sun.\n",
            "14: He felt his heart thump, thump, thump.\n",
            "15: She seemed happy too, her eyes bright.\n",
            "16: He wished the day would never end.\n",
            "17: They shared a tasty fly, a juicy, plump fly.\n",
            "18: It was the best day ever, ever, ever.\n",
            "19: A new friend made, a summer day's joy.\n"
          ]
        }
      ]
    },
    {
      "cell_type": "code",
      "source": [
        "#Generates a title and prints it\n",
        "title = GenText(story_str, None, 5, \"TITLE\")\n",
        "\n",
        "for part in title.candidates[0].content.parts:\n",
        "  if part.text is not None:\n",
        "    final_title = part.text\n",
        "\n",
        "print(final_title)"
      ],
      "metadata": {
        "colab": {
          "base_uri": "https://localhost:8080/"
        },
        "id": "ujtDJFGJdFOm",
        "outputId": "4b31f411-f13d-410f-dc0e-5640efa991e3"
      },
      "execution_count": 54,
      "outputs": [
        {
          "output_type": "stream",
          "name": "stdout",
          "text": [
            "Green Frog's Best Summer Day Ever\n",
            "\n"
          ]
        }
      ]
    },
    {
      "cell_type": "code",
      "source": [
        "#Gets an image and generates a new one\n",
        "img_sample = get_img(\"/content/famguy.jpg\")\n",
        "GenImage(story_list[0], img_sample)"
      ],
      "metadata": {
        "colab": {
          "base_uri": "https://localhost:8080/"
        },
        "id": "bkJh726zOOEy",
        "outputId": "77e120b7-2e78-43f0-f77c-059aa9cc46ed"
      },
      "execution_count": 55,
      "outputs": [
        {
          "output_type": "stream",
          "name": "stdout",
          "text": [
            "I will generate an image of a cheerful, bright green frog with wide, happy eyes and a big smile, captured mid-bounce with its legs playfully extended. The frog will be in a vibrant park setting, with lush green grass, colorful flowers, and perhaps a bright blue sky with fluffy white clouds in the background, maintaining the cartoonish style of the provided image.\n",
            "\n"
          ]
        }
      ]
    }
  ]
}