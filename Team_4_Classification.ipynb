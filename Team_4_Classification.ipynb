{
  "cells": [
    {
      "cell_type": "code",
      "execution_count": null,
      "metadata": {
        "colab": {
          "base_uri": "https://localhost:8080/"
        },
        "id": "twaAM5vC2Lze",
        "outputId": "ca92d8b9-93b1-4fcf-f363-035f26e8caaf"
      },
      "outputs": [
        {
          "name": "stdout",
          "output_type": "stream",
          "text": [
            "Downloading from https://www.kaggle.com/api/v1/datasets/download/jaidenroman/team-4-rockpaperscissors?dataset_version_number=1...\n"
          ]
        },
        {
          "name": "stderr",
          "output_type": "stream",
          "text": [
            "100%|██████████| 216M/216M [00:06<00:00, 37.1MB/s]"
          ]
        },
        {
          "name": "stdout",
          "output_type": "stream",
          "text": [
            "Extracting files...\n"
          ]
        },
        {
          "name": "stderr",
          "output_type": "stream",
          "text": [
            "\n"
          ]
        },
        {
          "name": "stdout",
          "output_type": "stream",
          "text": [
            "Path to dataset files: /root/.cache/kagglehub/datasets/jaidenroman/team-4-rockpaperscissors/versions/1\n"
          ]
        }
      ],
      "source": [
        "import kagglehub\n",
        "import shutil\n",
        "import os\n",
        "import tensorflow as tf\n",
        "import matplotlib.pyplot as plt\n",
        "import numpy as np\n",
        "from PIL import Image, ImageOps\n",
        "from tensorflow.keras.models import Sequential, load_model\n",
        "from tensorflow.keras.preprocessing.image import ImageDataGenerator\n",
        "\n",
        "# Download latest version\n",
        "path = kagglehub.dataset_download(\"jaidenroman/team-4-rockpaperscissors\")\n",
        "\n",
        "\n",
        "print(\"Path to dataset files:\", path)"
      ]
    },
    {
      "cell_type": "code",
      "execution_count": null,
      "metadata": {
        "colab": {
          "base_uri": "https://localhost:8080/"
        },
        "id": "fNbq_boH4rNH",
        "outputId": "80c7e8d5-1732-487c-d056-d6723726759b"
      },
      "outputs": [
        {
          "name": "stdout",
          "output_type": "stream",
          "text": [
            "Dataset saved at: ./RPS_DS/\n"
          ]
        }
      ],
      "source": [
        "# Define local save path\n",
        "local_path = \"./RPS_DS/\"\n",
        "\n",
        "# Ensure the local directory exists\n",
        "os.makedirs(local_path, exist_ok=True)\n",
        "# Copy the dataset to the local directory\n",
        "for item in os.listdir(path):\n",
        "    s = os.path.join(path, item)\n",
        "    d = os.path.join(local_path, item)\n",
        "    if os.path.isdir(s):\n",
        "        shutil.copytree(s, d)\n",
        "    else:\n",
        "        shutil.copy2(s, d)\n",
        "\n",
        "print(f\"Dataset saved at: {local_path}\")\n"
      ]
    },
    {
      "cell_type": "code",
      "execution_count": null,
      "metadata": {
        "colab": {
          "base_uri": "https://localhost:8080/"
        },
        "id": "7tDDswWurkvR",
        "outputId": "45e20088-dfbf-43b2-94e4-4778598eb2b5"
      },
      "outputs": [
        {
          "name": "stdout",
          "output_type": "stream",
          "text": [
            "Found 2016 images belonging to 3 classes.\n",
            "Found 240 images belonging to 3 classes.\n"
          ]
        }
      ],
      "source": [
        "# Correcting paths\n",
        "train_dir = \"/content/RPS_DS/RPS_DS_2/TRAIN\"\n",
        "test_dir = \"/content/RPS_DS/RPS_DS_2/TEST\"\n",
        "\n",
        "IMG_SZ = (300, 200)\n",
        "BATCH_SZ = 32\n",
        "\n",
        "# Define ImageDataGenerator for augmentation and rescaling\n",
        "gen_train_data = ImageDataGenerator(\n",
        "    rescale=1./255,\n",
        "    rotation_range=20,\n",
        "    width_shift_range=0.2,\n",
        "    height_shift_range=0.2,\n",
        "    shear_range=0.2,\n",
        "    zoom_range=0.2,\n",
        "    horizontal_flip=True,\n",
        "    fill_mode='nearest'\n",
        ")\n",
        "\n",
        "gen_test_data = ImageDataGenerator(rescale=1./255)\n",
        "\n",
        "# Load training dataset\n",
        "train_data = gen_train_data.flow_from_directory(\n",
        "    train_dir,\n",
        "    target_size=(IMG_SZ[0], IMG_SZ[1]),\n",
        "    batch_size=BATCH_SZ,\n",
        "    class_mode='categorical'\n",
        ")\n",
        "\n",
        "# Load testing dataset\n",
        "test_data = gen_test_data.flow_from_directory(\n",
        "    test_dir,\n",
        "    target_size=(IMG_SZ[0], IMG_SZ[1]),\n",
        "    batch_size=BATCH_SZ,\n",
        "    class_mode='categorical'\n",
        ")"
      ]
    },
    {
      "cell_type": "code",
      "execution_count": null,
      "metadata": {
        "id": "LP0A_Vnh7ctN"
      },
      "outputs": [],
      "source": [
        "#Automatically creates list of class names rather than defining manually\n",
        "class_map = train_data.class_indices\n",
        "class_names = list(class_map.keys())"
      ]
    },
    {
      "cell_type": "code",
      "execution_count": null,
      "metadata": {
        "id": "wz6dHA_R8t-F"
      },
      "outputs": [],
      "source": [
        "#Path where the trained model will be saved or loaded from.\n",
        "model_path = \"rockpaperscissors_model.h5\"\n",
        "\n",
        "#Keegan: Removed the original class_names list"
      ]
    },
    {
      "cell_type": "code",
      "execution_count": null,
      "metadata": {
        "colab": {
          "base_uri": "https://localhost:8080/"
        },
        "id": "2-xWqKnHDnhJ",
        "outputId": "a6b58e4c-bc32-4c1e-d564-feb695558ae7"
      },
      "outputs": [
        {
          "name": "stderr",
          "output_type": "stream",
          "text": [
            "/usr/local/lib/python3.11/dist-packages/keras/src/layers/convolutional/base_conv.py:107: UserWarning: Do not pass an `input_shape`/`input_dim` argument to a layer. When using Sequential models, prefer using an `Input(shape)` object as the first layer in the model instead.\n",
            "  super().__init__(activity_regularizer=activity_regularizer, **kwargs)\n"
          ]
        }
      ],
      "source": [
        "model = tf.keras.models.Sequential([\n",
        "    tf.keras.layers.Conv2D(32, (3,3), activation='relu', input_shape=(IMG_SZ[0], IMG_SZ[1], 3)),\n",
        "    tf.keras.layers.MaxPooling2D(2,2),\n",
        "\n",
        "    tf.keras.layers.Conv2D(64, (3,3), activation='relu'),\n",
        "    tf.keras.layers.MaxPooling2D(2,2),\n",
        "\n",
        "    tf.keras.layers.Conv2D(128, (3,3), activation='relu'),\n",
        "    tf.keras.layers.MaxPooling2D(2,2),\n",
        "\n",
        "    tf.keras.layers.Conv2D(256, (3,3), activation='relu'),\n",
        "    tf.keras.layers.MaxPooling2D(2,2),\n",
        "\n",
        "    tf.keras.layers.Conv2D(512, (3,3), activation='relu'),\n",
        "    tf.keras.layers.MaxPooling2D(2,2),\n",
        "\n",
        "    tf.keras.layers.Flatten(),\n",
        "    tf.keras.layers.Dense(2048, activation='relu'),\n",
        "    tf.keras.layers.Dropout(0.5),\n",
        "    tf.keras.layers.Dense(len(class_names), activation='softmax')\n",
        "])\n",
        "model.compile(optimizer='adam', loss='categorical_crossentropy', metrics=['accuracy'])"
      ]
    },
    {
      "cell_type": "code",
      "execution_count": null,
      "metadata": {
        "colab": {
          "background_save": true,
          "base_uri": "https://localhost:8080/"
        },
        "id": "LmZ-qK4fF-4z",
        "outputId": "dd562a4a-5a0a-4021-e709-a9c982a50e89"
      },
      "outputs": [
        {
          "name": "stderr",
          "output_type": "stream",
          "text": [
            "/usr/local/lib/python3.11/dist-packages/keras/src/trainers/data_adapters/py_dataset_adapter.py:121: UserWarning: Your `PyDataset` class should call `super().__init__(**kwargs)` in its constructor. `**kwargs` can include `workers`, `use_multiprocessing`, `max_queue_size`. Do not pass these arguments to `fit()`, as they will be ignored.\n",
            "  self._warn_if_super_not_called()\n"
          ]
        },
        {
          "name": "stdout",
          "output_type": "stream",
          "text": [
            "Epoch 1/45\n",
            "\u001b[1m63/63\u001b[0m \u001b[32m━━━━━━━━━━━━━━━━━━━━\u001b[0m\u001b[37m\u001b[0m \u001b[1m419s\u001b[0m 7s/step - accuracy: 0.3454 - loss: 9.1277 - val_accuracy: 0.6458 - val_loss: 0.9666\n",
            "Epoch 2/45\n",
            "\u001b[1m63/63\u001b[0m \u001b[32m━━━━━━━━━━━━━━━━━━━━\u001b[0m\u001b[37m\u001b[0m \u001b[1m413s\u001b[0m 7s/step - accuracy: 0.3882 - loss: 1.1945 - val_accuracy: 0.3917 - val_loss: 1.0694\n",
            "Epoch 3/45\n",
            "\u001b[1m63/63\u001b[0m \u001b[32m━━━━━━━━━━━━━━━━━━━━\u001b[0m\u001b[37m\u001b[0m \u001b[1m419s\u001b[0m 7s/step - accuracy: 0.3936 - loss: 1.1363 - val_accuracy: 0.3833 - val_loss: 1.1322\n",
            "Epoch 4/45\n",
            "\u001b[1m63/63\u001b[0m \u001b[32m━━━━━━━━━━━━━━━━━━━━\u001b[0m\u001b[37m\u001b[0m \u001b[1m426s\u001b[0m 7s/step - accuracy: 0.4090 - loss: 1.1273 - val_accuracy: 0.6208 - val_loss: 0.8940\n",
            "Epoch 5/45\n",
            "\u001b[1m63/63\u001b[0m \u001b[32m━━━━━━━━━━━━━━━━━━━━\u001b[0m\u001b[37m\u001b[0m \u001b[1m426s\u001b[0m 7s/step - accuracy: 0.4458 - loss: 1.0528 - val_accuracy: 0.3375 - val_loss: 1.0924\n",
            "Epoch 6/45\n",
            "\u001b[1m63/63\u001b[0m \u001b[32m━━━━━━━━━━━━━━━━━━━━\u001b[0m\u001b[37m\u001b[0m \u001b[1m427s\u001b[0m 7s/step - accuracy: 0.4547 - loss: 1.0464 - val_accuracy: 0.4125 - val_loss: 1.0593\n",
            "Epoch 7/45\n",
            "\u001b[1m63/63\u001b[0m \u001b[32m━━━━━━━━━━━━━━━━━━━━\u001b[0m\u001b[37m\u001b[0m \u001b[1m412s\u001b[0m 7s/step - accuracy: 0.4544 - loss: 1.0381 - val_accuracy: 0.5833 - val_loss: 0.9399\n",
            "Epoch 8/45\n",
            "\u001b[1m63/63\u001b[0m \u001b[32m━━━━━━━━━━━━━━━━━━━━\u001b[0m\u001b[37m\u001b[0m \u001b[1m447s\u001b[0m 7s/step - accuracy: 0.5181 - loss: 0.9770 - val_accuracy: 0.5750 - val_loss: 0.9858\n",
            "Epoch 9/45\n",
            "\u001b[1m63/63\u001b[0m \u001b[32m━━━━━━━━━━━━━━━━━━━━\u001b[0m\u001b[37m\u001b[0m \u001b[1m417s\u001b[0m 7s/step - accuracy: 0.5776 - loss: 0.9213 - val_accuracy: 0.5708 - val_loss: 0.8106\n",
            "Epoch 10/45\n",
            "\u001b[1m63/63\u001b[0m \u001b[32m━━━━━━━━━━━━━━━━━━━━\u001b[0m\u001b[37m\u001b[0m \u001b[1m417s\u001b[0m 7s/step - accuracy: 0.6193 - loss: 0.8246 - val_accuracy: 0.5375 - val_loss: 0.8651\n",
            "Epoch 11/45\n",
            "\u001b[1m63/63\u001b[0m \u001b[32m━━━━━━━━━━━━━━━━━━━━\u001b[0m\u001b[37m\u001b[0m \u001b[1m416s\u001b[0m 7s/step - accuracy: 0.6668 - loss: 0.7626 - val_accuracy: 0.7542 - val_loss: 0.5868\n",
            "Epoch 12/45\n",
            "\u001b[1m63/63\u001b[0m \u001b[32m━━━━━━━━━━━━━━━━━━━━\u001b[0m\u001b[37m\u001b[0m \u001b[1m410s\u001b[0m 7s/step - accuracy: 0.6893 - loss: 0.7188 - val_accuracy: 0.6500 - val_loss: 0.7323\n",
            "Epoch 13/45\n",
            "\u001b[1m51/63\u001b[0m \u001b[32m━━━━━━━━━━━━━━━━\u001b[0m\u001b[37m━━━━\u001b[0m \u001b[1m1:15\u001b[0m 6s/step - accuracy: 0.6729 - loss: 0.7165"
          ]
        }
      ],
      "source": [
        "history = model.fit(\n",
        "    train_data,\n",
        "    epochs=30,\n",
        "    validation_data=test_data\n",
        ")"
      ]
    },
    {
      "cell_type": "code",
      "execution_count": null,
      "metadata": {
        "id": "xFYcvb8OR2sf"
      },
      "outputs": [],
      "source": [
        "test_loss, test_acc = model.evaluate(train_data)\n",
        "print(f\"Test Accuracy: {test_acc:.2f}\")\n",
        "model.save(model_path)"
      ]
    },
    {
      "cell_type": "code",
      "execution_count": null,
      "metadata": {
        "id": "WY9shsr2R9y_"
      },
      "outputs": [],
      "source": [
        "# === Predict from new image ===\n",
        "def predict_new_image(img_path):\n",
        "    model = load_model(model_path)\n",
        "\n",
        "    img = Image.open(img_path).convert(\"RGB\")\n",
        "    img = img.resize(IMG_SZ)\n",
        "\n",
        "    img_array = np.array(img).astype(\"float32\") / 255.0\n",
        "    img_array = img_array.reshape(1, IMG_SZ[1], IMG_SZ[0], 3)\n",
        "\n",
        "    prediction = model.predict(img_array)\n",
        "    predicted_index = np.argmax(prediction)\n",
        "    confidence = prediction[0][predicted_index]\n",
        "\n",
        "    # Display\n",
        "    plt.imshow(img)\n",
        "    plt.axis(\"off\")\n",
        "    plt.title(f\"Prediction: {class_names[predicted_index]} ({confidence:.2%})\")\n",
        "    plt.show()"
      ]
    },
    {
      "cell_type": "code",
      "execution_count": null,
      "metadata": {
        "id": "5QU9-AoCmDte"
      },
      "outputs": [],
      "source": [
        "predict_new_image(\"/content/RPS_DS/RPS_DS_2/TEST/Paper/paper_712.png\")\n"
      ]
    },
    {
      "cell_type": "code",
      "execution_count": null,
      "metadata": {
        "id": "UoyxGVMW1Boh"
      },
      "outputs": [],
      "source": [
        "predict_new_image(\"/content/RPS_DS/RPS_DS_2/TEST/Paper/qs7Zi0icFErU0fsZ.png\")"
      ]
    },
    {
      "cell_type": "code",
      "execution_count": null,
      "metadata": {
        "id": "Q32dInDT1LDf"
      },
      "outputs": [],
      "source": [
        "predict_new_image(\"/content/RPS_DS/RPS_DS_2/TEST/Scissor/20250609_112043.png\")"
      ]
    },
    {
      "cell_type": "code",
      "execution_count": null,
      "metadata": {
        "id": "0FFzA78_LauW"
      },
      "outputs": [],
      "source": [
        "predict_new_image(\"/content/RPS_DS/RPS_DS_2/TEST/Paper/20250609_112823.png\")"
      ]
    },
    {
      "cell_type": "code",
      "execution_count": null,
      "metadata": {
        "id": "h4DBmr1vLunv"
      },
      "outputs": [],
      "source": [
        "predict_new_image(\"/content/RPS_DS/RPS_DS_2/TEST/Rock/stone_343.png\")"
      ]
    },
    {
      "cell_type": "code",
      "execution_count": null,
      "metadata": {
        "id": "5QYkWKBQMT6F"
      },
      "outputs": [],
      "source": []
    },
    {
      "cell_type": "code",
      "execution_count": null,
      "metadata": {
        "id": "yyjwO_QbQtJg"
      },
      "outputs": [],
      "source": [
        "# === Visualization of training ===\n",
        "print(\"Visualizing training results...\")\n",
        "\n",
        "# Plot accuracy\n",
        "plt.figure(figsize=(12,5))\n",
        "\n",
        "plt.subplot(1,2,1)\n",
        "plt.plot(history.history['accuracy'], label='Training Accuracy')\n",
        "plt.plot(history.history['val_accuracy'], label='Validation Accuracy')\n",
        "plt.title('Model Accuracy')\n",
        "plt.xlabel('Epoch')\n",
        "plt.ylabel('Accuracy')\n",
        "plt.legend()\n",
        "\n",
        "# Plot loss\n",
        "plt.subplot(1,2,2)\n",
        "plt.plot(history.history['loss'], label='Training Loss')\n",
        "plt.plot(history.history['val_loss'], label='Validation Loss')\n",
        "plt.title('Model Loss')\n",
        "plt.xlabel('Epoch')\n",
        "plt.ylabel('Loss')\n",
        "plt.legend()\n",
        "\n",
        "plt.tight_layout()\n",
        "plt.show()\n"
      ]
    }
  ],
  "metadata": {
    "accelerator": "GPU",
    "colab": {
      "gpuType": "T4",
      "provenance": []
    },
    "kernelspec": {
      "display_name": "Python 3",
      "name": "python3"
    },
    "language_info": {
      "name": "python"
    }
  },
  "nbformat": 4,
  "nbformat_minor": 0
}